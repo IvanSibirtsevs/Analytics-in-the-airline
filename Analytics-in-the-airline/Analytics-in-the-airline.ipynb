{
 "cells": [
  {
   "cell_type": "markdown",
   "metadata": {},
   "source": [
    "***Найдите количество рейсов на каждой модели самолёта с вылетом в сентябре 2018 года. Назовите получившееся поле flights_amount и выведите его.***\n",
    "\n",
    "`SELECT\n",
    " model, count(FLIGHT_ID) as flights_amount\n",
    "FROM\n",
    "    flights \n",
    "    INNER JOIN aircrafts ON aircrafts.aircraft_code =flights.aircraft_code\n",
    "Where \n",
    "DEPARTURE_TIME between '2018-09-01' and '2018-10-01'\n",
    "GROUP BY\n",
    "model`\n",
    "\n",
    "***Посчитайте отправленные в сентябре рейсы самолётов следующих моделей:***\n",
    "- Boeing,\n",
    "- Airbus,\n",
    "- другие (“other”).\n",
    "\n",
    "`SELECT  \n",
    "count(SUBQ.flight_id) as flights_amount ,\n",
    "SUBQ.CASE\n",
    "FROM(\n",
    "    SELECT\n",
    "    flight_id , CASE WHEN  MODEL LIKE 'Boeing%' THEN\n",
    "        'Boeing'\n",
    "    WHEN MODEL LIKE 'Airbus%' THEN\n",
    "        'Airbus'\n",
    "    ELSE \n",
    " 'other' \n",
    "    END \n",
    "FROM\n",
    "    flights \n",
    "    INNER JOIN aircrafts ON aircrafts.aircraft_code =flights.aircraft_code\n",
    "Where \n",
    "DEPARTURE_TIME between '2018-09-01' and '2018-10-01'\n",
    "Group by\n",
    "MODEL, flight_id) AS SUBQ\n",
    "GROUP BY\n",
    "SUBQ.CASE`\n",
    "\n",
    "***Посчитайте среднее количество прибывающих рейсов в день для каждого города за август 2018 года. Назовите получившееся поле average_flights, вместе с ним выведите столбец city***\n",
    "\n",
    "`SELECT \n",
    " SUBQ.city,\n",
    " AVG(SUBQ.flight_count) AS average_flights\n",
    " \n",
    "FROM(\n",
    "    SELECT\n",
    " count(FLIGHT_ID) as flight_count,\n",
    " EXTRACT(day FROM CAST(flights.arrival_time AS date)) AS day_n,\n",
    " city\n",
    "FROM\n",
    "    flights \n",
    "    INNER JOIN airports ON airports.airport_code = flights.arrival_airport\n",
    "Where \n",
    "CAST(flights.arrival_time AS date) BETWEEN '2018-08-01' AND '2018-08-31'\n",
    "GROUP BY\n",
    "city, day_n) as SUBQ\n",
    "GROUP BY\n",
    "SUBQ.city`\n",
    "\n",
    "\n",
    "***Установите фестивали, которые проходили с 23 июля по 30 сентября 2018 года в Москве, и номер недели, в которую они проходили. Выведите название фестиваля festival_name и номер недели festival_week.***\n",
    "\n",
    "`SELECT\n",
    "festival_name,\n",
    " EXTRACT(week FROM CAST(FESTIVAL_DATE AS date)) AS festival_week\n",
    "FROM\n",
    "    festivals \n",
    "    INNER JOIN airports  ON airports.city = festivals.festival_city\n",
    "Where\n",
    " FESTIVAL_DATE between '2018-07-23' and '2018-09-30'\n",
    " AND festival_city = 'Москва'\n",
    " GROUP BY\n",
    " FESTIVAL_NAME, FESTIVAL_DATE`\n",
    " \n",
    "***Для каждой недели с 23 июля по 30 сентября 2018 года посчитайте билеты, которые купили на рейсы в Москву (номер недели week_number и количество билетов ticket_amount).***\n",
    "*Получите таблицу:*\n",
    "- с количеством купленных за неделю билетов;\n",
    "- отметкой, проходил ли в эту неделю фестиваль;\n",
    "- название фестиваля `festival_name`;\n",
    "- номер недели `week_number`.\n",
    "\n",
    "`SELECT\n",
    "EXTRACT(week FROM CAST(departure_time  AS date)) AS week_number,\n",
    "count(ticket_no) as ticket_amount,\n",
    "finalTable.FESTIVAL_WEEK,\n",
    "finalTable.FESTIVAL_NAME\n",
    "FROM(\n",
    "SELECT\n",
    "*\n",
    "FROM(\n",
    "SELECT\n",
    "festival_name,\n",
    " EXTRACT(week FROM CAST(FESTIVAL_DATE AS date)) AS festival_week,festival_city,\n",
    "    AIRPORT_CODE\n",
    "FROM\n",
    "    festivals \n",
    "    INNER JOIN airports  ON airports.city = festivals.festival_city\n",
    "Where\n",
    " FESTIVAL_DATE between '2018-07-23' and '2018-07-30'\n",
    " AND festival_city = 'Москва'\n",
    " GROUP BY\n",
    " FESTIVAL_NAME, FESTIVAL_DATE, festival_city, AIRPORT_CODE ) AS SUBQ\n",
    "INNER JOIN flights  ON flights.arrival_airport = SUBQ.AIRPORT_CODE) as finalTable\n",
    "INNER JOIN ticket_flights  ON ticket_flights.flight_id = finalTable.flight_id \n",
    "GROUP BY\n",
    "departure_time,festival_week`"
   ]
  },
  {
   "cell_type": "markdown",
   "metadata": {},
   "source": [
    "**Аналитика средствами Python**\n",
    "\n",
    "\n",
    "**query_1.csv** — результат первого запроса. В нём содержится такая информация:\n",
    "\n",
    "- *model* — **модель самолета;\n",
    "- *flights_amount* — количество рейсов для каждой модели самолетов *model* в сентябре 2018 года.\n",
    "\n",
    "**query_3.csv** — результат третьего запроса. В нём содержится такая информация:\n",
    "\n",
    "- *city* — город;\n",
    "- *average_flights* — среднее количество рейсов, прибывающих в город (*city*) за день в сентябре 2018 года.\n",
    "\n",
    " Для этих двух наборов данных нужно:\n",
    "\n",
    "- импортировать файлы;\n",
    "- изучить данные в них;\n",
    "- проверить типы данных на корректность;\n",
    "- выбрать топ-10 городов по количеству рейсов;\n",
    "- построить графики: модели самолётов и количество рейсов, города и количество рейсов, топ-10 городов и количество рейсов;\n",
    "- сделать выводы по каждому из графиков, пояснить результат.\n"
   ]
  },
  {
   "cell_type": "markdown",
   "metadata": {},
   "source": [
    "# Аналитика"
   ]
  },
  {
   "cell_type": "code",
   "execution_count": 2,
   "metadata": {},
   "outputs": [],
   "source": [
    "import pandas as pd\n",
    "import numpy as np\n",
    "from pandas import Series\n",
    "from matplotlib import pyplot\n",
    "import matplotlib.pyplot as plt"
   ]
  },
  {
   "cell_type": "code",
   "execution_count": 3,
   "metadata": {},
   "outputs": [
    {
     "data": {
      "text/html": [
       "<div>\n",
       "<style scoped>\n",
       "    .dataframe tbody tr th:only-of-type {\n",
       "        vertical-align: middle;\n",
       "    }\n",
       "\n",
       "    .dataframe tbody tr th {\n",
       "        vertical-align: top;\n",
       "    }\n",
       "\n",
       "    .dataframe thead th {\n",
       "        text-align: right;\n",
       "    }\n",
       "</style>\n",
       "<table border=\"1\" class=\"dataframe\">\n",
       "  <thead>\n",
       "    <tr style=\"text-align: right;\">\n",
       "      <th></th>\n",
       "      <th>model</th>\n",
       "      <th>flights_amount</th>\n",
       "    </tr>\n",
       "  </thead>\n",
       "  <tbody>\n",
       "    <tr>\n",
       "      <td>0</td>\n",
       "      <td>Airbus A319-100</td>\n",
       "      <td>607</td>\n",
       "    </tr>\n",
       "    <tr>\n",
       "      <td>1</td>\n",
       "      <td>Airbus A321-200</td>\n",
       "      <td>960</td>\n",
       "    </tr>\n",
       "    <tr>\n",
       "      <td>2</td>\n",
       "      <td>Boeing 737-300</td>\n",
       "      <td>630</td>\n",
       "    </tr>\n",
       "    <tr>\n",
       "      <td>3</td>\n",
       "      <td>Boeing 767-300</td>\n",
       "      <td>600</td>\n",
       "    </tr>\n",
       "    <tr>\n",
       "      <td>4</td>\n",
       "      <td>Boeing 777-300</td>\n",
       "      <td>300</td>\n",
       "    </tr>\n",
       "    <tr>\n",
       "      <td>5</td>\n",
       "      <td>Bombardier CRJ-200</td>\n",
       "      <td>4446</td>\n",
       "    </tr>\n",
       "    <tr>\n",
       "      <td>6</td>\n",
       "      <td>Cessna 208 Caravan</td>\n",
       "      <td>4557</td>\n",
       "    </tr>\n",
       "    <tr>\n",
       "      <td>7</td>\n",
       "      <td>Sukhoi SuperJet-100</td>\n",
       "      <td>4185</td>\n",
       "    </tr>\n",
       "  </tbody>\n",
       "</table>\n",
       "</div>"
      ],
      "text/plain": [
       "                 model  flights_amount\n",
       "0      Airbus A319-100             607\n",
       "1      Airbus A321-200             960\n",
       "2       Boeing 737-300             630\n",
       "3       Boeing 767-300             600\n",
       "4       Boeing 777-300             300\n",
       "5   Bombardier CRJ-200            4446\n",
       "6   Cessna 208 Caravan            4557\n",
       "7  Sukhoi SuperJet-100            4185"
      ]
     },
     "metadata": {},
     "output_type": "display_data"
    },
    {
     "name": "stdout",
     "output_type": "stream",
     "text": [
      "<class 'pandas.core.frame.DataFrame'>\n",
      "RangeIndex: 8 entries, 0 to 7\n",
      "Data columns (total 2 columns):\n",
      "model             8 non-null object\n",
      "flights_amount    8 non-null int64\n",
      "dtypes: int64(1), object(1)\n",
      "memory usage: 256.0+ bytes\n"
     ]
    },
    {
     "data": {
      "text/html": [
       "<div>\n",
       "<style scoped>\n",
       "    .dataframe tbody tr th:only-of-type {\n",
       "        vertical-align: middle;\n",
       "    }\n",
       "\n",
       "    .dataframe tbody tr th {\n",
       "        vertical-align: top;\n",
       "    }\n",
       "\n",
       "    .dataframe thead th {\n",
       "        text-align: right;\n",
       "    }\n",
       "</style>\n",
       "<table border=\"1\" class=\"dataframe\">\n",
       "  <thead>\n",
       "    <tr style=\"text-align: right;\">\n",
       "      <th></th>\n",
       "      <th>city</th>\n",
       "      <th>average_flights</th>\n",
       "    </tr>\n",
       "  </thead>\n",
       "  <tbody>\n",
       "    <tr>\n",
       "      <td>0</td>\n",
       "      <td>Абакан</td>\n",
       "      <td>3.870968</td>\n",
       "    </tr>\n",
       "    <tr>\n",
       "      <td>1</td>\n",
       "      <td>Анадырь</td>\n",
       "      <td>1.000000</td>\n",
       "    </tr>\n",
       "    <tr>\n",
       "      <td>2</td>\n",
       "      <td>Анапа</td>\n",
       "      <td>2.161290</td>\n",
       "    </tr>\n",
       "    <tr>\n",
       "      <td>3</td>\n",
       "      <td>Архангельск</td>\n",
       "      <td>5.354839</td>\n",
       "    </tr>\n",
       "    <tr>\n",
       "      <td>4</td>\n",
       "      <td>Астрахань</td>\n",
       "      <td>2.451613</td>\n",
       "    </tr>\n",
       "    <tr>\n",
       "      <td>...</td>\n",
       "      <td>...</td>\n",
       "      <td>...</td>\n",
       "    </tr>\n",
       "    <tr>\n",
       "      <td>96</td>\n",
       "      <td>Чита</td>\n",
       "      <td>1.580645</td>\n",
       "    </tr>\n",
       "    <tr>\n",
       "      <td>97</td>\n",
       "      <td>Элиста</td>\n",
       "      <td>4.870968</td>\n",
       "    </tr>\n",
       "    <tr>\n",
       "      <td>98</td>\n",
       "      <td>Южно-Сахалинск</td>\n",
       "      <td>4.290323</td>\n",
       "    </tr>\n",
       "    <tr>\n",
       "      <td>99</td>\n",
       "      <td>Якутск</td>\n",
       "      <td>2.741935</td>\n",
       "    </tr>\n",
       "    <tr>\n",
       "      <td>100</td>\n",
       "      <td>Ярославль</td>\n",
       "      <td>1.322581</td>\n",
       "    </tr>\n",
       "  </tbody>\n",
       "</table>\n",
       "<p>101 rows × 2 columns</p>\n",
       "</div>"
      ],
      "text/plain": [
       "               city  average_flights\n",
       "0            Абакан         3.870968\n",
       "1           Анадырь         1.000000\n",
       "2             Анапа         2.161290\n",
       "3       Архангельск         5.354839\n",
       "4         Астрахань         2.451613\n",
       "..              ...              ...\n",
       "96             Чита         1.580645\n",
       "97           Элиста         4.870968\n",
       "98   Южно-Сахалинск         4.290323\n",
       "99           Якутск         2.741935\n",
       "100       Ярославль         1.322581\n",
       "\n",
       "[101 rows x 2 columns]"
      ]
     },
     "metadata": {},
     "output_type": "display_data"
    },
    {
     "name": "stdout",
     "output_type": "stream",
     "text": [
      "<class 'pandas.core.frame.DataFrame'>\n",
      "RangeIndex: 101 entries, 0 to 100\n",
      "Data columns (total 2 columns):\n",
      "city               101 non-null object\n",
      "average_flights    101 non-null float64\n",
      "dtypes: float64(1), object(1)\n",
      "memory usage: 1.7+ KB\n"
     ]
    }
   ],
   "source": [
    "PlaneFly = pd.read_csv('/datasets/query_1.csv')\n",
    "CityFly = pd.read_csv('/datasets/query_3.csv')\n",
    "display(PlaneFly)\n",
    "PlaneFly.info()\n",
    "display(CityFly)\n",
    "CityFly.info()"
   ]
  },
  {
   "cell_type": "code",
   "execution_count": 4,
   "metadata": {},
   "outputs": [
    {
     "name": "stdout",
     "output_type": "stream",
     "text": [
      "model             0\n",
      "flights_amount    0\n",
      "dtype: int64\n",
      "city               0\n",
      "average_flights    0\n",
      "dtype: int64\n"
     ]
    }
   ],
   "source": [
    "print(PlaneFly.isna().sum())\n",
    "print(CityFly.isna().sum())"
   ]
  },
  {
   "cell_type": "markdown",
   "metadata": {},
   "source": [
    "***Пропущенных значений нет. Так же все типы данных указаны корректно.***"
   ]
  },
  {
   "cell_type": "code",
   "execution_count": 5,
   "metadata": {},
   "outputs": [
    {
     "data": {
      "text/html": [
       "<div>\n",
       "<style scoped>\n",
       "    .dataframe tbody tr th:only-of-type {\n",
       "        vertical-align: middle;\n",
       "    }\n",
       "\n",
       "    .dataframe tbody tr th {\n",
       "        vertical-align: top;\n",
       "    }\n",
       "\n",
       "    .dataframe thead th {\n",
       "        text-align: right;\n",
       "    }\n",
       "</style>\n",
       "<table border=\"1\" class=\"dataframe\">\n",
       "  <thead>\n",
       "    <tr style=\"text-align: right;\">\n",
       "      <th></th>\n",
       "      <th>city</th>\n",
       "      <th>average_flights</th>\n",
       "    </tr>\n",
       "  </thead>\n",
       "  <tbody>\n",
       "    <tr>\n",
       "      <td>0</td>\n",
       "      <td>Москва</td>\n",
       "      <td>129.774194</td>\n",
       "    </tr>\n",
       "    <tr>\n",
       "      <td>1</td>\n",
       "      <td>Санкт-Петербург</td>\n",
       "      <td>31.161290</td>\n",
       "    </tr>\n",
       "    <tr>\n",
       "      <td>2</td>\n",
       "      <td>Новосибирск</td>\n",
       "      <td>17.322581</td>\n",
       "    </tr>\n",
       "    <tr>\n",
       "      <td>3</td>\n",
       "      <td>Красноярск</td>\n",
       "      <td>11.580645</td>\n",
       "    </tr>\n",
       "    <tr>\n",
       "      <td>4</td>\n",
       "      <td>Екатеринбург</td>\n",
       "      <td>11.322581</td>\n",
       "    </tr>\n",
       "    <tr>\n",
       "      <td>5</td>\n",
       "      <td>Ростов-на-Дону</td>\n",
       "      <td>10.193548</td>\n",
       "    </tr>\n",
       "    <tr>\n",
       "      <td>6</td>\n",
       "      <td>Пермь</td>\n",
       "      <td>10.129032</td>\n",
       "    </tr>\n",
       "    <tr>\n",
       "      <td>7</td>\n",
       "      <td>Брянск</td>\n",
       "      <td>10.000000</td>\n",
       "    </tr>\n",
       "    <tr>\n",
       "      <td>8</td>\n",
       "      <td>Сочи</td>\n",
       "      <td>9.612903</td>\n",
       "    </tr>\n",
       "    <tr>\n",
       "      <td>9</td>\n",
       "      <td>Ульяновск</td>\n",
       "      <td>9.580645</td>\n",
       "    </tr>\n",
       "  </tbody>\n",
       "</table>\n",
       "</div>"
      ],
      "text/plain": [
       "              city  average_flights\n",
       "0           Москва       129.774194\n",
       "1  Санкт-Петербург        31.161290\n",
       "2      Новосибирск        17.322581\n",
       "3       Красноярск        11.580645\n",
       "4     Екатеринбург        11.322581\n",
       "5   Ростов-на-Дону        10.193548\n",
       "6            Пермь        10.129032\n",
       "7           Брянск        10.000000\n",
       "8             Сочи         9.612903\n",
       "9        Ульяновск         9.580645"
      ]
     },
     "metadata": {},
     "output_type": "display_data"
    }
   ],
   "source": [
    "TopCity = CityFly.sort_values(by=['average_flights'], ascending=False)\n",
    "TopCity = TopCity.head(10).reset_index(drop=True)\n",
    "display(TopCity)"
   ]
  },
  {
   "cell_type": "markdown",
   "metadata": {},
   "source": [
    "***Топ-10 городов по количеству рейсов***"
   ]
  },
  {
   "cell_type": "code",
   "execution_count": 6,
   "metadata": {
    "scrolled": true
   },
   "outputs": [
    {
     "data": {
      "text/plain": [
       "Text(0.5, 1.0, 'топ-10 городов и среднее количество рейсов в эти города')"
      ]
     },
     "execution_count": 6,
     "metadata": {},
     "output_type": "execute_result"
    },
    {
     "data": {
      "image/png": "[encoded data removed]",
      "text/plain": [
       "<Figure size 720x576 with 1 Axes>"
      ]
     },
     "metadata": {
      "needs_background": "light"
     },
     "output_type": "display_data"
    }
   ],
   "source": [
    "TopCity.pivot_table(index=\"city\", values=\"average_flights\").plot(kind=\"bar\", grid=True, figsize=(10, 8)) # Количество проданных игр по годам\n",
    "plt.xlabel('Города')\n",
    "plt.ylabel('Количество полетов')\n",
    "plt.title('топ-10 городов и среднее количество рейсов в эти города')"
   ]
  },
  {
   "cell_type": "markdown",
   "metadata": {},
   "source": [
    "***Основное количество рейсов летит в Москву, но это не удивительно так как в этом гороже живет самое большое количество людей и это финансовый цетр. Питер второй по  велечине город за Москвой. Так-же остальные горда в этом списке миллионники поэтому и рейсов в них больше всех.***"
   ]
  },
  {
   "cell_type": "code",
   "execution_count": 7,
   "metadata": {},
   "outputs": [
    {
     "data": {
      "text/plain": [
       "Text(0.5, 1.0, 'Города и среднее количество рейсов в эти города')"
      ]
     },
     "execution_count": 7,
     "metadata": {},
     "output_type": "execute_result"
    },
    {
     "data": {
      "image/png": "[encoded data removed]",
      "text/plain": [
       "<Figure size 1368x216 with 1 Axes>"
      ]
     },
     "metadata": {
      "needs_background": "light"
     },
     "output_type": "display_data"
    }
   ],
   "source": [
    "CityFly.pivot_table(index=\"city\", values=\"average_flights\").plot(kind=\"bar\", grid=True, figsize=(19,3)) # Количество проданных игр по годам\n",
    "plt.xlabel('Города')\n",
    "plt.ylabel('Количество полетов')\n",
    "plt.title('Города и среднее количество рейсов в эти города')"
   ]
  },
  {
   "cell_type": "markdown",
   "metadata": {},
   "source": [
    "***Во всех остальных городах рейсов значительно меньше. Потому что причин леталь туда меньше и там нет больших аэропортов***"
   ]
  },
  {
   "cell_type": "code",
   "execution_count": 8,
   "metadata": {},
   "outputs": [
    {
     "name": "stdout",
     "output_type": "stream",
     "text": [
      "Маленький город        71\n",
      "Средний город          22\n",
      "Большой город           6\n",
      "Очень большой город     2\n",
      "Name: City_all, dtype: int64\n"
     ]
    }
   ],
   "source": [
    "def alert_group_importance(row):\n",
    "    city = row['city']\n",
    "    fly = row['average_flights']\n",
    "    \n",
    "    if fly >= 20:\n",
    "            return 'Очень большой город'\n",
    "    elif 20 > fly >= 10:\n",
    "            return 'Большой город'\n",
    "    elif 10 > fly >= 5:\n",
    "            return 'Средний город'\n",
    "    return 'Маленький город'    \n",
    "    \n",
    "CityFly['City_all'] = CityFly.apply(alert_group_importance, axis=1)\n",
    "print(CityFly['City_all'].value_counts())"
   ]
  },
  {
   "cell_type": "code",
   "execution_count": 9,
   "metadata": {},
   "outputs": [
    {
     "data": {
      "text/html": [
       "<div>\n",
       "<style scoped>\n",
       "    .dataframe tbody tr th:only-of-type {\n",
       "        vertical-align: middle;\n",
       "    }\n",
       "\n",
       "    .dataframe tbody tr th {\n",
       "        vertical-align: top;\n",
       "    }\n",
       "\n",
       "    .dataframe thead th {\n",
       "        text-align: right;\n",
       "    }\n",
       "</style>\n",
       "<table border=\"1\" class=\"dataframe\">\n",
       "  <thead>\n",
       "    <tr style=\"text-align: right;\">\n",
       "      <th></th>\n",
       "      <th>average_flights</th>\n",
       "    </tr>\n",
       "    <tr>\n",
       "      <th>City_all</th>\n",
       "      <th></th>\n",
       "    </tr>\n",
       "  </thead>\n",
       "  <tbody>\n",
       "    <tr>\n",
       "      <td>Большой город</td>\n",
       "      <td>70.548387</td>\n",
       "    </tr>\n",
       "    <tr>\n",
       "      <td>Маленький город</td>\n",
       "      <td>172.945359</td>\n",
       "    </tr>\n",
       "    <tr>\n",
       "      <td>Очень большой город</td>\n",
       "      <td>160.935484</td>\n",
       "    </tr>\n",
       "    <tr>\n",
       "      <td>Средний город</td>\n",
       "      <td>150.483871</td>\n",
       "    </tr>\n",
       "  </tbody>\n",
       "</table>\n",
       "</div>"
      ],
      "text/plain": [
       "                     average_flights\n",
       "City_all                            \n",
       "Большой город              70.548387\n",
       "Маленький город           172.945359\n",
       "Очень большой город       160.935484\n",
       "Средний город             150.483871"
      ]
     },
     "execution_count": 9,
     "metadata": {},
     "output_type": "execute_result"
    }
   ],
   "source": [
    "SityType = CityFly.groupby(by=[\"City_all\"]).sum()\n",
    "SityType"
   ]
  },
  {
   "cell_type": "code",
   "execution_count": 10,
   "metadata": {},
   "outputs": [
    {
     "data": {
      "text/plain": [
       "Text(0.5, 1.0, 'Города и среднее количество рейсов в эти города')"
      ]
     },
     "execution_count": 10,
     "metadata": {},
     "output_type": "execute_result"
    },
    {
     "data": {
      "image/png": "[encoded data removed]",
      "text/plain": [
       "<Figure size 576x360 with 1 Axes>"
      ]
     },
     "metadata": {
      "needs_background": "light"
     },
     "output_type": "display_data"
    }
   ],
   "source": [
    "SityType.pivot_table(index=\"City_all\", values=\"average_flights\").plot(kind=\"bar\", grid=True, figsize=(8,5)) # Количество проданных игр по годам\n",
    "plt.xlabel('Тип города')\n",
    "plt.ylabel('Количество полетов')\n",
    "plt.title('Города и среднее количество рейсов в эти города')"
   ]
  },
  {
   "cell_type": "markdown",
   "metadata": {},
   "source": [
    "***Но если посмотреть как отличаются среднее количество рейсов при деление городов на группы, то можно увидеть, что большая часть рейсов происходит между маленькими городам***"
   ]
  },
  {
   "cell_type": "code",
   "execution_count": 11,
   "metadata": {},
   "outputs": [
    {
     "data": {
      "text/plain": [
       "Text(0.5, 1.0, 'Модели самолётов и количество рейсов')"
      ]
     },
     "execution_count": 11,
     "metadata": {},
     "output_type": "execute_result"
    },
    {
     "data": {
      "image/png": "[encoded data removed]",
      "text/plain": [
       "<Figure size 720x576 with 1 Axes>"
      ]
     },
     "metadata": {
      "needs_background": "light"
     },
     "output_type": "display_data"
    }
   ],
   "source": [
    "PlaneFly.pivot_table(index=\"model\", values=\"flights_amount\").plot(kind=\"bar\", grid=True, figsize=(10, 8)) # Количество проданных игр по годам\n",
    "plt.xlabel('Города')\n",
    "plt.ylabel('Количество полетов')\n",
    "plt.title('Модели самолётов и количество рейсов')"
   ]
  },
  {
   "cell_type": "markdown",
   "metadata": {},
   "source": [
    "***\n",
    "3 самых распостроннеых самолета это:\n",
    "- Самолеты Cessna 208 Caravan в основном летают на очень маленькие дистанции. И в отдаленных местах где нет больших аэропортов. Поэтому их так много. \n",
    "- Sukhoi SuperJet-100 это Российский самолет, и он дешевле для наших авиаперевозчиков. Поэтому их очень много. \n",
    "- Так же еще есть Bombardier CRJ200 это очень маленький самолет для региональных перевозок.\n",
    "***"
   ]
  },
  {
   "cell_type": "markdown",
   "metadata": {},
   "source": [
    "# Вывод\n"
   ]
  },
  {
   "cell_type": "markdown",
   "metadata": {},
   "source": [
    "***\n",
    "- Можно сделать вывод что самым популярным городом для перелетов является Москва. Ждя этого есть множетсво причин. Такие как пересадки на международные рейсы, количество проживающих в этом городе людей, итд.\n",
    "- Так же популярностью пльзуются и города миллионники в которых есть большие аэропорты такие как Новосибирск или Питер.\n",
    "- Но если сгруппировать города, то получается перевозок между маленькими городами больше чем в Москве и Питере. \n",
    "- Самые популярные самолеты для региональных перевозок  Cessna 208 Caravan, связано это с тем что в большенстве мест нет больших аэропортов и живет не так много людей.\n",
    "\n",
    "***"
   ]
  }
 ],
 "metadata": {
  "kernelspec": {
   "display_name": "Python 3",
   "language": "python",
   "name": "python3"
  },
  "language_info": {
   "codemirror_mode": {
    "name": "ipython",
    "version": 3
   },
   "file_extension": ".py",
   "mimetype": "text/x-python",
   "name": "python",
   "nbconvert_exporter": "python",
   "pygments_lexer": "ipython3",
   "version": "3.7.8"
  },
  "toc": {
   "base_numbering": 1,
   "nav_menu": {},
   "number_sections": true,
   "sideBar": true,
   "skip_h1_title": true,
   "title_cell": "Table of Contents",
   "title_sidebar": "Contents",
   "toc_cell": false,
   "toc_position": {},
   "toc_section_display": true,
   "toc_window_display": false
  }
 },
 "nbformat": 4,
 "nbformat_minor": 2
}
